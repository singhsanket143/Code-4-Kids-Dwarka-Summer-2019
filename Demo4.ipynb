{
 "cells": [
  {
   "cell_type": "markdown",
   "metadata": {},
   "source": [
    "## Conditionals"
   ]
  },
  {
   "cell_type": "code",
   "execution_count": 1,
   "metadata": {},
   "outputs": [
    {
     "name": "stdout",
     "output_type": "stream",
     "text": [
      "2\n",
      "3\n",
      "Lets go to CB\n",
      "And have some fun\n",
      "Out of conditional\n"
     ]
    }
   ],
   "source": [
    "var1 = int(input())\n",
    "var2 = int(input())\n",
    "\n",
    "# conditionals\n",
    "if(var1 < var2):\n",
    "    # New block starts here\n",
    "    print(\"Lets go to CB\")\n",
    "    print(\"And have some fun\")\n",
    "elif(var1 == var2):\n",
    "    print(\"Lets stay at home\")\n",
    "else:\n",
    "    print(\"Lets watch endgame\")\n",
    "    \n",
    "print(\"Out of conditional\")"
   ]
  },
  {
   "cell_type": "code",
   "execution_count": 4,
   "metadata": {},
   "outputs": [
    {
     "name": "stdout",
     "output_type": "stream",
     "text": [
      "8\n",
      "5\n",
      "v2 is not divisible by 3\n"
     ]
    }
   ],
   "source": [
    "# Nested conditional\n",
    "v1 = int(input())\n",
    "v2 = int(input())\n",
    "if(v1 < v2 or v2<4):\n",
    "    print(\"Hello world\")\n",
    "    if(v1%2 == 0):\n",
    "        print(\"v1 is even\")\n",
    "    else:\n",
    "        print(\"v1 is odd\")\n",
    "elif(v2%3!=0):\n",
    "    print(\"v2 is not divisible by 3\")\n",
    "elif(v1%3!=0):\n",
    "    print(\"v1 is not divisible by 3\")\n",
    "else:\n",
    "    print(\"Nothing\")"
   ]
  },
  {
   "cell_type": "code",
   "execution_count": 7,
   "metadata": {},
   "outputs": [
    {
     "name": "stdout",
     "output_type": "stream",
     "text": [
      "12\n",
      "12\n"
     ]
    }
   ],
   "source": [
    "ch = input()\n",
    "if(ch == \"12\"):\n",
    "    print(ch)\n",
    "else:\n",
    "    print(\"nothing\")"
   ]
  },
  {
   "cell_type": "markdown",
   "metadata": {},
   "source": [
    "## Loops"
   ]
  },
  {
   "cell_type": "code",
   "execution_count": 5,
   "metadata": {},
   "outputs": [
    {
     "name": "stdout",
     "output_type": "stream",
     "text": [
      "0\n",
      "10\n",
      "loop_var is even with value 0\n",
      "loop var is odd with value 1\n",
      "loop_var is even with value 2\n",
      "loop var is odd with value 3\n",
      "loop_var is even with value 4\n",
      "loop var is odd with value 5\n",
      "loop_var is even with value 6\n",
      "loop var is odd with value 7\n",
      "loop_var is even with value 8\n",
      "loop var is odd with value 9\n",
      "loop_var is even with value 10\n"
     ]
    }
   ],
   "source": [
    "loop_var = int(input())\n",
    "limit = int(input())\n",
    "while(loop_var <= limit):\n",
    "    if(loop_var%2 == 0):\n",
    "        print(\"loop_var is even with value\", loop_var)\n",
    "    else:\n",
    "        print(\"loop var is odd with value\", loop_var)\n",
    "\n",
    "    loop_var+=1"
   ]
  },
  {
   "cell_type": "code",
   "execution_count": 11,
   "metadata": {},
   "outputs": [
    {
     "name": "stdout",
     "output_type": "stream",
     "text": [
      "*\n",
      "**\n",
      "***\n",
      "****\n",
      "*****\n"
     ]
    }
   ],
   "source": [
    "# Triangle pattern\n",
    "ch = \"*\"\n",
    "row = 1\n",
    "while(row<=5):\n",
    "    print(ch*row)\n",
    "    row+=1"
   ]
  },
  {
   "cell_type": "code",
   "execution_count": 19,
   "metadata": {},
   "outputs": [
    {
     "name": "stdout",
     "output_type": "stream",
     "text": [
      "*****\n",
      "*****\n",
      "*****\n",
      "*****\n",
      "*****\n"
     ]
    }
   ],
   "source": [
    "ch = \"*\"\n",
    "row = 1\n",
    "while(row<=5):\n",
    "    print(ch*5)\n",
    "    row+=1"
   ]
  },
  {
   "cell_type": "code",
   "execution_count": 27,
   "metadata": {},
   "outputs": [
    {
     "name": "stdout",
     "output_type": "stream",
     "text": [
      "5\n",
      "      *\n",
      "     **\n",
      "    ***\n",
      "   ****\n",
      "  *****\n"
     ]
    }
   ],
   "source": [
    "ch = \"*\"\n",
    "space_char = \" \"\n",
    "total_no_of_row = int(input())\n",
    "row = 1\n",
    "space = total_no_of_row\n",
    "while(row<=total_no_of_row):\n",
    "    print(space_char*space, end=\" \")\n",
    "    print(ch*row)\n",
    "    row+=1\n",
    "    space-=1"
   ]
  },
  {
   "cell_type": "markdown",
   "metadata": {},
   "source": [
    "### Complex pattern"
   ]
  },
  {
   "cell_type": "code",
   "execution_count": 31,
   "metadata": {},
   "outputs": [
    {
     "name": "stdout",
     "output_type": "stream",
     "text": [
      "5\n",
      "*        *\n",
      "**      **\n",
      "***    ***\n",
      "****  ****\n",
      "**********\n"
     ]
    }
   ],
   "source": [
    "ch = \"*\"\n",
    "space_char= \" \"\n",
    "total_no_of_row = int(input())\n",
    "row = 1\n",
    "space = 2*total_no_of_row - 2\n",
    "while(row<=total_no_of_row):\n",
    "    print(ch*row, end=\"\")\n",
    "    print(space_char*space, end=\"\")\n",
    "    print(ch*row, end=\"\\n\")\n",
    "    space-=2\n",
    "    row+=1"
   ]
  },
  {
   "cell_type": "code",
   "execution_count": null,
   "metadata": {},
   "outputs": [],
   "source": []
  }
 ],
 "metadata": {
  "kernelspec": {
   "display_name": "Python 3",
   "language": "python",
   "name": "python3"
  },
  "language_info": {
   "codemirror_mode": {
    "name": "ipython",
    "version": 3
   },
   "file_extension": ".py",
   "mimetype": "text/x-python",
   "name": "python",
   "nbconvert_exporter": "python",
   "pygments_lexer": "ipython3",
   "version": "3.7.3"
  }
 },
 "nbformat": 4,
 "nbformat_minor": 2
}
