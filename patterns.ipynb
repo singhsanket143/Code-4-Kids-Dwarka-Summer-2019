{
 "cells": [
  {
   "cell_type": "code",
   "execution_count": 39,
   "metadata": {},
   "outputs": [],
   "source": [
    "\n",
    "def pattern_copy_demo(no_of_rows):\n",
    "    row = 1\n",
    "    no_of_rows = 5\n",
    "    print(\"inside func\",no_of_rows)\n",
    "    while(row<=no_of_rows):\n",
    "        count = 1\n",
    "        while(count<=row):\n",
    "            print(count, end=\"\\t\")\n",
    "            count+=1\n",
    "        print(\"\")\n",
    "        row+=1\n",
    "    "
   ]
  },
  {
   "cell_type": "code",
   "execution_count": 40,
   "metadata": {},
   "outputs": [
    {
     "name": "stdout",
     "output_type": "stream",
     "text": [
      "outside func 10\n",
      "inside func 5\n",
      "1\t\n",
      "1\t2\t\n",
      "1\t2\t3\t\n",
      "1\t2\t3\t4\t\n",
      "1\t2\t3\t4\t5\t\n",
      "outside func 10\n"
     ]
    }
   ],
   "source": [
    "no_of_rows = 10\n",
    "print(\"outside func\",no_of_rows)\n",
    "pattern_copy_demo(no_of_rows)\n",
    "print(\"outside func\",no_of_rows)"
   ]
  },
  {
   "cell_type": "code",
   "execution_count": 37,
   "metadata": {},
   "outputs": [],
   "source": [
    "\n",
    "def pattern_reference_demo(no_of_row):\n",
    "    row = 1\n",
    "    no_of_row[0] = 5\n",
    "    print(no_of_row)\n",
    "    while(row<=no_of_row[0]):\n",
    "        count = 1\n",
    "        while(count<=row):\n",
    "            print(count, end=\"\\t\")\n",
    "            count+=1\n",
    "        print(\"\")\n",
    "        row+=1\n",
    "    "
   ]
  },
  {
   "cell_type": "code",
   "execution_count": 38,
   "metadata": {},
   "outputs": [
    {
     "name": "stdout",
     "output_type": "stream",
     "text": [
      "[10]\n"
     ]
    }
   ],
   "source": [
    "no_of_row = [10]\n",
    "print(no_of_row)"
   ]
  },
  {
   "cell_type": "code",
   "execution_count": 33,
   "metadata": {},
   "outputs": [
    {
     "name": "stdout",
     "output_type": "stream",
     "text": [
      "[5]\n",
      "1\t\n",
      "1\t2\t\n",
      "1\t2\t3\t\n",
      "1\t2\t3\t4\t\n",
      "1\t2\t3\t4\t5\t\n"
     ]
    }
   ],
   "source": [
    "pattern_reference_demo(no_of_row)"
   ]
  },
  {
   "cell_type": "code",
   "execution_count": 34,
   "metadata": {},
   "outputs": [
    {
     "name": "stdout",
     "output_type": "stream",
     "text": [
      "[5]\n"
     ]
    }
   ],
   "source": [
    "print(no_of_row)"
   ]
  },
  {
   "cell_type": "code",
   "execution_count": null,
   "metadata": {},
   "outputs": [],
   "source": []
  },
  {
   "cell_type": "code",
   "execution_count": null,
   "metadata": {},
   "outputs": [],
   "source": []
  }
 ],
 "metadata": {
  "kernelspec": {
   "display_name": "Python 3",
   "language": "python",
   "name": "python3"
  },
  "language_info": {
   "codemirror_mode": {
    "name": "ipython",
    "version": 3
   },
   "file_extension": ".py",
   "mimetype": "text/x-python",
   "name": "python",
   "nbconvert_exporter": "python",
   "pygments_lexer": "ipython3",
   "version": "3.7.3"
  }
 },
 "nbformat": 4,
 "nbformat_minor": 2
}
