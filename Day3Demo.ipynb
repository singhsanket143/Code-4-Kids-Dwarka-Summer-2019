{
 "cells": [
  {
   "cell_type": "code",
   "execution_count": 1,
   "metadata": {},
   "outputs": [
    {
     "name": "stdout",
     "output_type": "stream",
     "text": [
      "This is a string\n"
     ]
    }
   ],
   "source": [
    "print(\"This is a string\")"
   ]
  },
  {
   "cell_type": "code",
   "execution_count": 15,
   "metadata": {},
   "outputs": [
    {
     "name": "stdout",
     "output_type": "stream",
     "text": [
      "20\n",
      "int_var\n",
      "3.56\n"
     ]
    }
   ],
   "source": [
    "int_var = 20\n",
    "float_var = 3.56\n",
    "print(int_var) # treating it as a variable\n",
    "print(\"int_var\") # treating it as a normal string\n",
    "print(float_var) # treating it as a variable"
   ]
  },
  {
   "cell_type": "code",
   "execution_count": 4,
   "metadata": {},
   "outputs": [
    {
     "name": "stdout",
     "output_type": "stream",
     "text": [
      "20 3.56 This is demo\n"
     ]
    }
   ],
   "source": [
    "print(int_var, float_var, \"This is demo\")"
   ]
  },
  {
   "cell_type": "code",
   "execution_count": 14,
   "metadata": {},
   "outputs": [
    {
     "name": "stdout",
     "output_type": "stream",
     "text": [
      "String1 String2\n",
      "String3\n",
      "String4\n",
      "String5*34\n"
     ]
    }
   ],
   "source": [
    "print(\"String1\", end=\" \")\n",
    "print(\"String2\", end=\"\\n\")\n",
    "print(\"String3\")\n",
    "print(\"String4\")\n",
    "print(\"String5\", end=\"*\")\n",
    "print(34)"
   ]
  },
  {
   "cell_type": "code",
   "execution_count": 17,
   "metadata": {},
   "outputs": [
    {
     "name": "stdout",
     "output_type": "stream",
     "text": [
      "20 3.56 This is demo\n",
      "\n",
      "\n",
      "Savar\n"
     ]
    }
   ],
   "source": [
    "print(int_var, float_var, \"This is demo\", end=\"\\n\\n\\n\") # not valid\n",
    "print(\"Savar\")"
   ]
  },
  {
   "cell_type": "code",
   "execution_count": 20,
   "metadata": {},
   "outputs": [
    {
     "name": "stdout",
     "output_type": "stream",
     "text": [
      "Integer value is  25 , float value is  35.4\n"
     ]
    }
   ],
   "source": [
    "int_var1 = 25\n",
    "float_var_1 = 35.4\n",
    "# method 1\n",
    "print(\"Integer value is \", int_var1, \", float value is \", float_var_1)"
   ]
  },
  {
   "cell_type": "code",
   "execution_count": 21,
   "metadata": {},
   "outputs": [
    {
     "name": "stdout",
     "output_type": "stream",
     "text": [
      "Integer value is  25 , float value is  35.4\n"
     ]
    }
   ],
   "source": [
    "# method 2\n",
    "print(\"Integer value is \", end=\" \")\n",
    "print(int_var1, end=\" \")\n",
    "print(\", float value is \", end=\" \")\n",
    "print(float_var_1)"
   ]
  },
  {
   "cell_type": "code",
   "execution_count": 24,
   "metadata": {},
   "outputs": [
    {
     "name": "stdout",
     "output_type": "stream",
     "text": [
      "Integer value is 25, float value is 35.4\n"
     ]
    }
   ],
   "source": [
    "# method 3\n",
    "print(\"Integer value is \"+str(int_var1)+\", float value is \"+str(float_var_1))"
   ]
  },
  {
   "cell_type": "code",
   "execution_count": 32,
   "metadata": {},
   "outputs": [
    {
     "name": "stdout",
     "output_type": "stream",
     "text": [
      "Integer value is 25, float value is 35.4 and name is Sanket\n"
     ]
    }
   ],
   "source": [
    "# method 4\n",
    "str_var_1 = \"Sanket\"\n",
    "print(\"Integer value is {0}, float value is {1} and name is {2}\".format(int_var1, float_var_1, str_var_1))\n",
    "\n"
   ]
  },
  {
   "cell_type": "code",
   "execution_count": 35,
   "metadata": {},
   "outputs": [
    {
     "name": "stdout",
     "output_type": "stream",
     "text": [
      "3\n",
      "<class 'str'>\n",
      "This is user input 3\n"
     ]
    }
   ],
   "source": [
    "# input methods\n",
    "input_var = input()\n",
    "print(type(input_var))\n",
    "print(\"This is user input\",input_var)"
   ]
  },
  {
   "cell_type": "code",
   "execution_count": 41,
   "metadata": {},
   "outputs": [
    {
     "name": "stdout",
     "output_type": "stream",
     "text": [
      "76\n",
      "<class 'int'>\n",
      "This is an integer input from user 76\n"
     ]
    }
   ],
   "source": [
    "# integer input\n",
    "int_input_var = int(input())\n",
    "print(type(int_input_var))\n",
    "print(\"This is an integer input from user\", int_input_var)"
   ]
  },
  {
   "cell_type": "code",
   "execution_count": 45,
   "metadata": {},
   "outputs": [
    {
     "name": "stdout",
     "output_type": "stream",
     "text": [
      "34.5\n",
      "<class 'float'>\n",
      "This is an integer input from user 34.5\n"
     ]
    }
   ],
   "source": [
    "# float input\n",
    "float_input_var = float(input())\n",
    "print(type(float_input_var))\n",
    "print(\"This is an integer input from user\", float_input_var)"
   ]
  },
  {
   "cell_type": "code",
   "execution_count": 55,
   "metadata": {},
   "outputs": [],
   "source": [
    "# # bool input\n",
    "# bool_input_var = bool(input())\n",
    "# print(type(bool_input_var))\n",
    "# print(\"This is an integer input from user\", bool_input_var)"
   ]
  },
  {
   "cell_type": "code",
   "execution_count": 57,
   "metadata": {},
   "outputs": [
    {
     "name": "stdout",
     "output_type": "stream",
     "text": [
      "Enter your name Sanket\n",
      "Enter your marks34\n",
      "Sanket 34\n"
     ]
    }
   ],
   "source": [
    "# multiple input\n",
    "inp1 = input(\"Enter your name \")\n",
    "inp2 = int(input(\"Enter your marks\"))\n",
    "print(inp1, inp2)"
   ]
  },
  {
   "cell_type": "markdown",
   "metadata": {},
   "source": [
    "## Operators"
   ]
  },
  {
   "cell_type": "code",
   "execution_count": 58,
   "metadata": {},
   "outputs": [
    {
     "name": "stdout",
     "output_type": "stream",
     "text": [
      "29\n",
      "15\n",
      "154\n",
      "3.142857142857143\n",
      "3\n",
      "1\n",
      "2494357888\n"
     ]
    }
   ],
   "source": [
    "# Arithmetic Operators\n",
    "var1 = 22\n",
    "var2 = 7\n",
    "print(var1+var2)\n",
    "print(var1-var2)\n",
    "print(var1*var2)\n",
    "print(var1/var2)\n",
    "print(var1//var2)\n",
    "print(var1%var2)\n",
    "print(var1**var2)"
   ]
  },
  {
   "cell_type": "code",
   "execution_count": 59,
   "metadata": {},
   "outputs": [
    {
     "name": "stdout",
     "output_type": "stream",
     "text": [
      "True\n",
      "False\n",
      "False\n",
      "False\n"
     ]
    }
   ],
   "source": [
    "# Logical operator\n",
    "print(True and True)\n",
    "print(True and False)\n",
    "print(False and True)\n",
    "print(False and False)"
   ]
  },
  {
   "cell_type": "code",
   "execution_count": 60,
   "metadata": {},
   "outputs": [
    {
     "name": "stdout",
     "output_type": "stream",
     "text": [
      "True\n",
      "True\n",
      "True\n",
      "False\n"
     ]
    }
   ],
   "source": [
    "print(True or True)\n",
    "print(True or False)\n",
    "print(False or True)\n",
    "print(False or False)"
   ]
  },
  {
   "cell_type": "code",
   "execution_count": 61,
   "metadata": {},
   "outputs": [
    {
     "name": "stdout",
     "output_type": "stream",
     "text": [
      "False\n",
      "True\n"
     ]
    }
   ],
   "source": [
    "print(not True)\n",
    "print(not False)"
   ]
  },
  {
   "cell_type": "code",
   "execution_count": 62,
   "metadata": {},
   "outputs": [
    {
     "name": "stdout",
     "output_type": "stream",
     "text": [
      "True\n",
      "False\n",
      "True\n",
      "False\n",
      "True\n",
      "False\n",
      "True\n",
      "True\n",
      "False\n",
      "True\n"
     ]
    }
   ],
   "source": [
    "# conditional operator\n",
    "print(10<20)\n",
    "print(10>20)\n",
    "print(10!=20)\n",
    "print(20!=20)\n",
    "print(45==45)\n",
    "print(54==45)\n",
    "print(10<=11)\n",
    "print(10<=10)\n",
    "print(12>=13)\n",
    "print(12>=12)"
   ]
  },
  {
   "cell_type": "code",
   "execution_count": 64,
   "metadata": {},
   "outputs": [
    {
     "name": "stdout",
     "output_type": "stream",
     "text": [
      "110\n",
      "108\n",
      "216\n",
      "54.0\n",
      "0.0\n"
     ]
    }
   ],
   "source": [
    "a = 100\n",
    "a+=10\n",
    "print(a)\n",
    "a-=2\n",
    "print(a)\n",
    "a*=2\n",
    "print(a)\n",
    "a/=4\n",
    "print(a)\n",
    "a%=3\n",
    "print(a)"
   ]
  },
  {
   "cell_type": "markdown",
   "metadata": {},
   "source": [
    "## conditionals"
   ]
  },
  {
   "cell_type": "code",
   "execution_count": null,
   "metadata": {},
   "outputs": [],
   "source": []
  }
 ],
 "metadata": {
  "kernelspec": {
   "display_name": "Python 3",
   "language": "python",
   "name": "python3"
  },
  "language_info": {
   "codemirror_mode": {
    "name": "ipython",
    "version": 3
   },
   "file_extension": ".py",
   "mimetype": "text/x-python",
   "name": "python",
   "nbconvert_exporter": "python",
   "pygments_lexer": "ipython3",
   "version": "3.7.1"
  }
 },
 "nbformat": 4,
 "nbformat_minor": 2
}
